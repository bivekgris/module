{
 "cells": [
  {
   "cell_type": "code",
   "execution_count": null,
   "metadata": {},
   "outputs": [],
   "source": [
    "import pandas as pd\n",
    "import numpy as np\n",
    "%matplotlib inline\n",
    "import otter\n",
    "grader = otter.Notebook()"
   ]
  },
  {
   "cell_type": "markdown",
   "metadata": {},
   "source": [
    "# A1 | Week 3: Practice Consolidation and Review\n",
    "\n",
    "------\n",
    "\n",
    "### Instructions:\n",
    "\n",
    "- Complete 50 points worth of questions to pass the assessment\n",
    "  - You can attempt any number of questions and in any order provided you pass at least 50 points.\n",
    "- Develop and check your answers in the spaces provided.\n",
    "  - Do not remove any variables other provided markings already present in the answer spaces.\n",
    "  - Do not make any changes to this notebook outside of the answer spaces provided.\n",
    "  \n",
    "#### Submitting\n",
    "\n",
    "- Upload your .ipynb file to Gradescope (Make sure to restart the kernel and run all before you submit)\n",
    "- You can submit as many times as needed\n",
    "- When reviewing results, ignore any results listed under \"Public Tests\"\n",
    "\n",
    "For more information, see the assessment page. We have also provided an example question below for clarity. "
   ]
  },
  {
   "cell_type": "markdown",
   "metadata": {},
   "source": [
    "#### Question 1&nbsp;&nbsp;&nbsp;&nbsp;&nbsp;&nbsp;(5 Points)\n",
    "You have three sentences \"Hello world!\", \"I love Python programming.\" and \"I am improving my skills.\" Write a Python program to do the following.\n",
    "\n",
    "1. Combine those 3 sentences to the new string \"Hello world! I love Python programming and I am improving my skills.\". Create a variable `output1_i` and assign the solution to it.\n",
    "2. Find the length of `output1_i`. Create a variable `output1_ii` and assign the solution to it.\n",
    "3. How many times the letter `I` is mentioned in `output1_i`? Create a variable `output1_iii` and assign the solution to it."
   ]
  },
  {
   "cell_type": "code",
   "execution_count": 10,
   "metadata": {
    "tags": []
   },
   "outputs": [
    {
     "name": "stdout",
     "output_type": "stream",
     "text": [
      "Hello world! I love Python programming and I am improving my skills.\n",
      "68\n",
      "2\n"
     ]
    }
   ],
   "source": [
    "# Write your solution here\n",
    "output1_i=\"Hello world!\" + \" \" +\"I love Python programming\" + \" \"+ \"and\" + \" \" +\"I am improving my skills.\"\n",
    "print(output1_i)\n",
    "output1_ii=len(output1_i)\n",
    "print(output1_ii)\n",
    "output1_iii=output1_i.count('I')\n",
    "print(output1_iii)"
   ]
  },
  {
   "cell_type": "markdown",
   "metadata": {},
   "source": [
    "#### Question 2&nbsp;&nbsp;&nbsp;&nbsp;&nbsp;&nbsp;(5 Points)\n",
    "Write a Python program to display the following pattern using while loops. Create the variable `output2` and use it inside the while loop to construct the string that you want to display at the end of the program.\n",
    "\n",
    "1 - 120  \n",
    "2 - 119  \n",
    "3 - 118  \n",
    "...  \n",
    "119 - 2  \n",
    "120 - 1"
   ]
  },
  {
   "cell_type": "code",
   "execution_count": 6,
   "metadata": {
    "tags": []
   },
   "outputs": [
    {
     "name": "stdout",
     "output_type": "stream",
     "text": [
      "1 - 120\n",
      "2 - 119\n",
      "3 - 118\n",
      "4 - 117\n",
      "5 - 116\n",
      "6 - 115\n",
      "7 - 114\n",
      "8 - 113\n",
      "9 - 112\n",
      "10 - 111\n",
      "11 - 110\n",
      "12 - 109\n",
      "13 - 108\n",
      "14 - 107\n",
      "15 - 106\n",
      "16 - 105\n",
      "17 - 104\n",
      "18 - 103\n",
      "19 - 102\n",
      "20 - 101\n",
      "21 - 100\n",
      "22 - 99\n",
      "23 - 98\n",
      "24 - 97\n",
      "25 - 96\n",
      "26 - 95\n",
      "27 - 94\n",
      "28 - 93\n",
      "29 - 92\n",
      "30 - 91\n",
      "31 - 90\n",
      "32 - 89\n",
      "33 - 88\n",
      "34 - 87\n",
      "35 - 86\n",
      "36 - 85\n",
      "37 - 84\n",
      "38 - 83\n",
      "39 - 82\n",
      "40 - 81\n",
      "41 - 80\n",
      "42 - 79\n",
      "43 - 78\n",
      "44 - 77\n",
      "45 - 76\n",
      "46 - 75\n",
      "47 - 74\n",
      "48 - 73\n",
      "49 - 72\n",
      "50 - 71\n",
      "51 - 70\n",
      "52 - 69\n",
      "53 - 68\n",
      "54 - 67\n",
      "55 - 66\n",
      "56 - 65\n",
      "57 - 64\n",
      "58 - 63\n",
      "59 - 62\n",
      "60 - 61\n",
      "61 - 60\n",
      "62 - 59\n",
      "63 - 58\n",
      "64 - 57\n",
      "65 - 56\n",
      "66 - 55\n",
      "67 - 54\n",
      "68 - 53\n",
      "69 - 52\n",
      "70 - 51\n",
      "71 - 50\n",
      "72 - 49\n",
      "73 - 48\n",
      "74 - 47\n",
      "75 - 46\n",
      "76 - 45\n",
      "77 - 44\n",
      "78 - 43\n",
      "79 - 42\n",
      "80 - 41\n",
      "81 - 40\n",
      "82 - 39\n",
      "83 - 38\n",
      "84 - 37\n",
      "85 - 36\n",
      "86 - 35\n",
      "87 - 34\n",
      "88 - 33\n",
      "89 - 32\n",
      "90 - 31\n",
      "91 - 30\n",
      "92 - 29\n",
      "93 - 28\n",
      "94 - 27\n",
      "95 - 26\n",
      "96 - 25\n",
      "97 - 24\n",
      "98 - 23\n",
      "99 - 22\n",
      "100 - 21\n",
      "101 - 20\n",
      "102 - 19\n",
      "103 - 18\n",
      "104 - 17\n",
      "105 - 16\n",
      "106 - 15\n",
      "107 - 14\n",
      "108 - 13\n",
      "109 - 12\n",
      "110 - 11\n",
      "111 - 10\n",
      "112 - 9\n",
      "113 - 8\n",
      "114 - 7\n",
      "115 - 6\n",
      "116 - 5\n",
      "117 - 4\n",
      "118 - 3\n",
      "119 - 2\n",
      "120 - 1\n"
     ]
    }
   ],
   "source": [
    "output2 = \"\"\n",
    "\n",
    "# Write your solution here\n",
    "i=1\n",
    "j=120\n",
    "while i<=120:\n",
    "    output2+=\"{} - {}\\n\".format(i,j)\n",
    "    i+=1\n",
    "    j-=1\n",
    "output2=output2.strip()\n",
    "print(output2)\n"
   ]
  },
  {
   "cell_type": "markdown",
   "metadata": {},
   "source": [
    "#### Question 3&nbsp;&nbsp;&nbsp;&nbsp;&nbsp;&nbsp;(8 Points)\n",
    "Write a Python program to separate the integer `q3_num = 12345` into five separate digits.\n",
    "\n",
    "1. Sum these five digits together using a while loop. Create a variable `output3_i` and assign the solution to it.\n",
    "2. Create the string \"5 4 3 2 1\" using the same method. Create a variable `output3_ii` and assign the solution to it.\n",
    "\n",
    "***\n",
    "\n",
    "<details>\n",
    "  <summary><span style=\"color:blue\">Click to see Hint</span></summary>\n",
    "  The <code>lstrip()</code> and <code>rstrip()</code> methods can be handy ways to trim whitespace at the left and right side of a string respectively. \n",
    "</details>"
   ]
  },
  {
   "cell_type": "code",
   "execution_count": 30,
   "metadata": {
    "tags": []
   },
   "outputs": [
    {
     "name": "stdout",
     "output_type": "stream",
     "text": [
      "15\n",
      "5 4 3 2 1\n"
     ]
    }
   ],
   "source": [
    "# Write your solution here\n",
    "\n",
    "q3_num=12345\n",
    "q3_num2=str(q3_num)\n",
    "q3_num1= [int(a) for a in str(q3_num)]\n",
    "i=0\n",
    "output3_i=0\n",
    "while i<len(q3_num1):\n",
    "    output3_i+=q3_num1[i]\n",
    "    i+=1\n",
    "print(output3_i)\n",
    "q3=\" \".join(q3_num2)\n",
    "output3_ii=q3[::-1]\n",
    "print(output3_ii)"
   ]
  },
  {
   "cell_type": "markdown",
   "metadata": {},
   "source": [
    "#### Question 4&nbsp;&nbsp;&nbsp;&nbsp;&nbsp;&nbsp;(8 Points)\n",
    "Consider a rectangle with dimensions (in `cm`) `q4_w = 14.2`, and `q4_h = 6.7`. Write a Python program to calculate the following.\n",
    "\n",
    "1. Find the perimeter of the rectangle. Create a string variable `output4_i` and assign the solution to it.\n",
    "2. Find the area of the same rectangle. Create a string variable `output4_ii` and assign the solution to it.\n",
    "3. Find the area of a circle with a diameter of `d = 6.7`, rounded to 1 decimal places. You should import `pi` from the `math` library. Create a variable `output_iii` and assign the solution to it. (Use $\\frac{\\pi}{4}Ã—d^2$, where 'd' is the diameter.)\n",
    "\n",
    "The format of your solutions should be `X cm` or `X cm^2`, where `X` is the number you calculated."
   ]
  },
  {
   "cell_type": "code",
   "execution_count": 25,
   "metadata": {
    "tags": []
   },
   "outputs": [
    {
     "name": "stdout",
     "output_type": "stream",
     "text": [
      "41.8 cm\n",
      "95.14 cm^2\n",
      "29.83278126563323 cm^2\n"
     ]
    }
   ],
   "source": [
    "# Write your solution here\n",
    "import math\n",
    "q4_w=14.2\n",
    "q4_h=6.7\n",
    "perimeter=2*(q4_w+q4_h)\n",
    "output4_i=\"{} cm\".format(perimeter)\n",
    "print(output4_i)\n",
    "area=q4_w*q4_h\n",
    "output4_ii=\"{} cm^2\".format(area)\n",
    "print(output4_ii)\n",
    "area_circle= math.pi/4*area-6.7**2\n",
    "output_iii=\"{} cm^2\".format(area_circle)\n",
    "print(output_iii)\n"
   ]
  },
  {
   "cell_type": "markdown",
   "metadata": {},
   "source": [
    "#### Question 5&nbsp;&nbsp;&nbsp;&nbsp;&nbsp;&nbsp;(8 Points)\n",
    "Kelvin is the standard unit of temperature in chemistry. Write a Python program to:\n",
    "\n",
    "1. Convert temperature between Kelvin (K) to Fahrenheit (F) given the the variable `q5_K=120` calculate the temperature in Fahrenheit. Use the following formular to convert the Kelvin value into Fahrenheit (rounded to 2 decimal places). Create a variable `output5_i` and assign the Fahrenheit value to it.\n",
    "\n",
    "    $F=(Kâˆ’273.15)*\\frac{9}{5}+32$\n",
    "\n",
    "2. Convert the temperature between Fahrenheit (F) to Celsius (C) using the output of `Question 5.i`. Use the following formular to convert the Fahrenheit value into Celsius (rounded to 2 decimal places). Create a variable `output5_ii` and assign the Celsius value to it.\n",
    "\n",
    "    $C=(F-32)*\\frac{5}{9}$\n",
    "\n",
    "3. Create a variable `output5_iii`, this variable should contain the string \"The water is frozen!\" if `output5_ii` is less than or equal to 0 degrees Celsius, otherwise it should say \"The water is not frozen.\""
   ]
  },
  {
   "cell_type": "code",
   "execution_count": 37,
   "metadata": {
    "tags": []
   },
   "outputs": [
    {
     "name": "stdout",
     "output_type": "stream",
     "text": [
      "-243.67\n",
      "-153.15\n",
      "The water is frozen!\n"
     ]
    }
   ],
   "source": [
    "# Write your solution here\n",
    "q5_K=120\n",
    "F=(q5_K-273.15)*9/5+32\n",
    "output5_i=round(F,2)\n",
    "print(output5_i)\n",
    "C=(F-32)*5/9\n",
    "output5_ii=round(C,2)\n",
    "print(output5_ii)\n",
    "if output5_ii<=0:\n",
    "    output5_iii=\"The water is frozen!\"\n",
    "else:\n",
    "    output5_iii=\"The water is not frozen.\"\n",
    "print(output5_iii)\n"
   ]
  },
  {
   "cell_type": "markdown",
   "metadata": {},
   "source": [
    "#### Question 6&nbsp;&nbsp;&nbsp;&nbsp;&nbsp;&nbsp;(8 Points)\n",
    "Consider the following dates, `22nd of April 1995` and `10th of March 1999`. Find the number of days between these two dates. \n",
    "\n",
    "Create a variable `output6 = \"\"`. Write a Python program using a while loop to append to this string using the following rules.\n",
    "\n",
    "1. Every 5th run of the loop, append a \".\" to the back of `output6`.\n",
    "2. Every 15th run of the loop, append a \",\" to the back of `output6` *instead* or a \".\".\n",
    "3. Every 10th run of the loop, append a \" \" to the back of `output6`.\n",
    "4. Every 100th run of the loop, append a \"1\" to the front of `output6`.\n",
    "5. Every 1000th run of the loop, duplicate the current contents of the `output6`.\n",
    "\n",
    "Your while loop must run a number of times equal to the number of days between the aforementioned dates. All the changes should directly affect `output6` and if multiple events are met at the same time, they are applied in the sequence described above unless otherwise stated.\n",
    "\n",
    "***\n",
    "\n",
    "<details>\n",
    "  <summary><span style=\"color:blue\">Click to see Hint</span></summary>\n",
    "  Try using a counter to track how many times the loop has run.\n",
    "</details>"
   ]
  },
  {
   "cell_type": "code",
   "execution_count": null,
   "metadata": {
    "tags": []
   },
   "outputs": [],
   "source": [
    "from datetime import date\n",
    "output6 = \"\"\n",
    "\n",
    "# Write your solution here\n",
    "\n"
   ]
  },
  {
   "cell_type": "markdown",
   "metadata": {},
   "source": [
    "#### Question 7&nbsp;&nbsp;&nbsp;&nbsp;&nbsp;&nbsp;(8 Points) \n",
    "Write a Python program to perform the following.\n",
    "1. Multiply all the prime numbers from 1 to 10 together using while loops. Create a variable `output7_i` and assign the solution to it (See the definition of prime numbers, if needed: https://en.wikipedia.org/wiki/Prime_number).\n",
    "2. Convert the result of `output7_i` to a string, and check if all the characters are numeric characters. Create a variable `output7_ii` and assign the solution to it."
   ]
  },
  {
   "cell_type": "code",
   "execution_count": 31,
   "metadata": {
    "tags": []
   },
   "outputs": [
    {
     "name": "stdout",
     "output_type": "stream",
     "text": [
      "210\n"
     ]
    }
   ],
   "source": [
    "# Write your solution here\n",
    "# Take input from user\n",
    "upto =10\n",
    "\n",
    "output7_i = 1\n",
    "l=1\n",
    "num=1\n",
    "while num in range(1, upto + 1):\n",
    "    if num>1:\n",
    "        i = 2\n",
    "        while i in range(2, num):\n",
    "            if (int(num % i) == 0):\n",
    "                break;\n",
    "            i+=1\n",
    "        else:\n",
    "            output7_i =output7_i* num\n",
    "    num+=1\n",
    "\n",
    "print(output7_i)\n",
    "\n"
   ]
  },
  {
   "cell_type": "markdown",
   "metadata": {},
   "source": [
    "#### Question 8&nbsp;&nbsp;&nbsp;&nbsp;&nbsp;&nbsp;(10 Points) \n",
    "Scientific notation is a useful way of representing very small and large numbers (see below if you are unfamiliar with this way of representing numbers in this way and examples). In computing we often use `E` (which stands for `exponent`) instead of the full `* 10^` notation as it is easier to type and read on a screen of unformatted text.\n",
    "\n",
    "Write a Python program to convert the following numbers as strings written in scientific notation using while loop. The expected format is `xEy u`, where `x` is the number in decimal form (to the specified number of decimal places below), `y` is the exponent and `u` is the units.\n",
    "\n",
    "1. The speed of light in a vacuum is defined as `c = 299792458` m/s. Create a variable `output8_i` and assign the solution to it. Round this number to 3 decimal places.\n",
    "2. The molar mass of a carbon atom is `MM = 0.0119999999958` kg/mol. Create a variable `output8_ii` and assign the solution to it. Round this number to 10 decimal places.\n",
    "\n",
    "***\n",
    "\n",
    "In scientific notation, numbers are represented with two parts. The first is the number. This has one digit is written to the left of the decimal point with the rest going after it. The second part is the power of 10 raised to either a positive or negative number. Here are some examples of standard decimal format along with the equivalent scientific notation.\n",
    "\n",
    "Examples:\n",
    "1. 15.999 = 1.5999 * 10^1 = 1.5999E1, that is: 1.5999 * 10^1 = 1.5999 * 10 = 15.999\n",
    "2. 0.0999 = 9.99 * 10^-2 = 9.99E-2, that is: 9.99 * 10^-2 = 9.99 / 100 = 0.0999\n",
    "\n",
    "<a href=\"https://en.wikipedia.org/wiki/Scientific_notation\">Further reading</a>"
   ]
  },
  {
   "cell_type": "code",
   "execution_count": null,
   "metadata": {
    "tags": []
   },
   "outputs": [],
   "source": [
    "# Write your solution here\n",
    "c=299792458\n",
    "output8_i=round(c,3)\n",
    "MM=0.0119999999958\n",
    "output\n"
   ]
  },
  {
   "cell_type": "markdown",
   "metadata": {},
   "source": [
    "#### Question 9&nbsp;&nbsp;&nbsp;&nbsp;&nbsp;&nbsp;(10 Points)\n",
    "Using a string, write a Python programme to draw a building on a 10*12 grid. Create a variable `output9` and assign the solution to it.\n",
    "\n",
    "<code>\n",
    "**********\n",
    "**  **  **\n",
    "**  **  **\n",
    "**********\n",
    "**  **  **\n",
    "**  **  **\n",
    "**********\n",
    "**  **  **\n",
    "**  **  **\n",
    "**********\n",
    "****  ****\n",
    "****  ****\n",
    "</code>"
   ]
  },
  {
   "cell_type": "code",
   "execution_count": null,
   "metadata": {
    "tags": []
   },
   "outputs": [],
   "source": [
    "output9 = \"\"\n",
    "\n",
    "# Write your solution here\n"
   ]
  },
  {
   "cell_type": "markdown",
   "metadata": {},
   "source": [
    "#### Question 10&nbsp;&nbsp;&nbsp;&nbsp;&nbsp;&nbsp;(15 Points)\n",
    "Consider the following scenario.\n",
    "\n",
    "You live 5.4 km away from the university and you have to travel to class. You have the option of either driving or taking the bus. Taking the bus is a fixed cost for a trip regardless of the distance, while the cost of driving is per km. Write a Python programme to solve whether it is cheaper to drive or take the bus. Your solutions will either be \"It is cheaper to take the bus.\", \"It is cheaper to drive.\", or \"Both options cost the same.\".\n",
    "    \n",
    "1. The bus costs \\\\$3.95. Your car consumes 10L of fuel per 100 kilometres and fuel costs \\\\$2.00 per Litre. Create a variable `output10_i` and assign the solution to it.\n",
    "2. The bus costs \\\\$3.95. Your car consumes 20L of fuel per 100 kilometres and fuel costs \\\\$1.60 per Litre. Create a variable `output10_ii` and assign the solution to it.\n",
    "3. The bus costs \\\\$2.20. Your car consumes 20L of fuel per 100 kilometres and fuel costs \\\\$2.20 per Litre. Create a variable `output10_iii` and assign the solution to it."
   ]
  },
  {
   "cell_type": "code",
   "execution_count": 30,
   "metadata": {
    "tags": []
   },
   "outputs": [
    {
     "name": "stdout",
     "output_type": "stream",
     "text": [
      "It is cheaper to drive\n",
      "It is cheaper to drive\n",
      "It is cheaper to take the bus\n"
     ]
    }
   ],
   "source": [
    "# Write your solution here\n",
    "bus_cost1=3.95\n",
    "car_fuel_cost1=10/100*5.4*2\n",
    "if bus_cost1<car_fuel_cost1:\n",
    "    output10_i=\"It is cheaper to take the bus.\"\n",
    "elif bus_cost1>car_fuel_cost1:\n",
    "    output10_i=\"It is cheaper to drive.\"\n",
    "else:\n",
    "    output10_i=\"Both options cost the same.\"\n",
    "print(output10_i)\n",
    "\n",
    "bus_cost2=3.95\n",
    "car_fuel_cost2=20/100*5.4*1.6\n",
    "if bus_cost2<car_fuel_cost2:\n",
    "    output10_ii=\"It is cheaper to take the bus.\"\n",
    "elif bus_cost2>car_fuel_cost2:\n",
    "    output10_ii=\"It is cheaper to drive.\"\n",
    "else:\n",
    "    output10_ii=\"Both options cost the same.\"\n",
    "print(output10_ii)\n",
    "\n",
    "bus_cost3=2.20\n",
    "car_fuel_cost3=20/100*5.4*2.20\n",
    "if bus_cost3<car_fuel_cost3:\n",
    "    output10_iii=\"It is cheaper to take the bus.\"\n",
    "elif bus_cost3>car_fuel_cost3:\n",
    "    output10_iii=\"It is cheaper to drive.\"\n",
    "else:\n",
    "    output10_iii=\"Both options cost the same.\"\n",
    "print(output10_iii)\n",
    "\n"
   ]
  },
  {
   "cell_type": "markdown",
   "metadata": {},
   "source": [
    "#### Question 11&nbsp;&nbsp;&nbsp;&nbsp;&nbsp;&nbsp;(15 Points)\n",
    "In South Australia it is illegal for a full-licence holder to drive with a Blood Alcohol Concentration (BAC) equal to or exceeding 0.05% (that is 0.05g of alcohol per 100mL of blood).\n",
    "\n",
    "Consider you are employed in a medical lab. Paramedics just arrived with a male patient who was involved in an accident. The police suspect the patient was driving under the influence of alcohol. The doctors have provided you with a 10 mL sample of blood to help the police with their report. Annoyingly your instrument returns the alcohol levels as the string `a = \"0.00623 g\"`. All floats *must* be rounded to 4 decimal places.\n",
    "\n",
    "1. Using the string above, determine the BAC of the patient. Create a variable `output11_i` and assign the solution to it.\n",
    "2. Using the legal definition above and the BAC you calculated, determine whether or not the patient broke the law or not. Create a variable `output11_i` and assign the solution to it. If they broke the law your output should say \"The patient's BAC reading was `X`, therefore they were intoxicated at the time of the accident.\" otherwise say \"The patient's BAC reading was `X`, therefore they were not intoxicated at the time of the accident.\", where `X` is out solution to part 1.\n",
    "\n",
    "When the person recovered, they said they thought they were okay to drive because they used the Widmark Formula to estimate their BAC. This formula is:\n",
    "\n",
    "$BAC = (\\frac{alcohol\\_consumed\\_in\\_grams}{r*body\\_weight\\_in\\_grams} * 100) - (elapsed\\_time\\_in\\_hours * 0. 015)$, where $r$ is approximately 0.55 for woman and 0.68 for men.\n",
    "\n",
    "The male patient weighs 90 kg, and they claimed they consumed 84 g of alcohol (approximately 6 standard drinks) over a 6 hr period.\n",
    "\n",
    "3. Using the numbers the patient gave you, calculate what they thought their BAC was using the Widmark Formula. Create a variable `output11_iii` and assign the solution to it."
   ]
  },
  {
   "cell_type": "code",
   "execution_count": 1,
   "metadata": {
    "tags": []
   },
   "outputs": [
    {
     "name": "stdout",
     "output_type": "stream",
     "text": [
      "0.00623 g\n"
     ]
    }
   ],
   "source": [
    "# Write your solution here\n",
    "a=\"0.00623 g\"\n",
    "a1=a.lstrip(\"g\")\n",
    "print(a1)\n",
    "\n"
   ]
  },
  {
   "cell_type": "code",
   "execution_count": null,
   "metadata": {},
   "outputs": [],
   "source": []
  }
 ],
 "metadata": {
  "celltoolbar": "Edit Metadata",
  "kernelspec": {
   "display_name": "Python 3 (ipykernel)",
   "language": "python",
   "name": "python3"
  },
  "language_info": {
   "codemirror_mode": {
    "name": "ipython",
    "version": 3
   },
   "file_extension": ".py",
   "mimetype": "text/x-python",
   "name": "python",
   "nbconvert_exporter": "python",
   "pygments_lexer": "ipython3",
   "version": "3.9.12"
  },
  "otter": {
   "tests": {
    "Question 01": {
     "name": "Question 01",
     "points": 5,
     "suites": [
      {
       "cases": [],
       "scored": true,
       "setup": "",
       "teardown": "",
       "type": "doctest"
      }
     ]
    },
    "Question 02": {
     "name": "Question 02",
     "points": 5,
     "suites": [
      {
       "cases": [],
       "scored": true,
       "setup": "",
       "teardown": "",
       "type": "doctest"
      }
     ]
    },
    "Question 03": {
     "name": "Question 03",
     "points": 8,
     "suites": [
      {
       "cases": [],
       "scored": true,
       "setup": "",
       "teardown": "",
       "type": "doctest"
      }
     ]
    },
    "Question 04": {
     "name": "Question 04",
     "points": 8,
     "suites": [
      {
       "cases": [],
       "scored": true,
       "setup": "",
       "teardown": "",
       "type": "doctest"
      }
     ]
    },
    "Question 05": {
     "name": "Question 05",
     "points": 8,
     "suites": [
      {
       "cases": [],
       "scored": true,
       "setup": "",
       "teardown": "",
       "type": "doctest"
      }
     ]
    },
    "Question 06": {
     "name": "Question 06",
     "points": 8,
     "suites": [
      {
       "cases": [],
       "scored": true,
       "setup": "",
       "teardown": "",
       "type": "doctest"
      }
     ]
    },
    "Question 07": {
     "name": "Question 07",
     "points": 8,
     "suites": [
      {
       "cases": [],
       "scored": true,
       "setup": "",
       "teardown": "",
       "type": "doctest"
      }
     ]
    },
    "Question 08": {
     "name": "Question 08",
     "points": 10,
     "suites": [
      {
       "cases": [],
       "scored": true,
       "setup": "",
       "teardown": "",
       "type": "doctest"
      }
     ]
    },
    "Question 09": {
     "name": "Question 09",
     "points": 10,
     "suites": [
      {
       "cases": [],
       "scored": true,
       "setup": "",
       "teardown": "",
       "type": "doctest"
      }
     ]
    },
    "Question 10": {
     "name": "Question 10",
     "points": 15,
     "suites": [
      {
       "cases": [],
       "scored": true,
       "setup": "",
       "teardown": "",
       "type": "doctest"
      }
     ]
    },
    "Question 11": {
     "name": "Question 11",
     "points": 15,
     "suites": [
      {
       "cases": [],
       "scored": true,
       "setup": "",
       "teardown": "",
       "type": "doctest"
      }
     ]
    }
   }
  },
  "varInspector": {
   "cols": {
    "lenName": 16,
    "lenType": 16,
    "lenVar": 40
   },
   "kernels_config": {
    "python": {
     "delete_cmd_postfix": "",
     "delete_cmd_prefix": "del ",
     "library": "var_list.py",
     "varRefreshCmd": "print(var_dic_list())"
    },
    "r": {
     "delete_cmd_postfix": ") ",
     "delete_cmd_prefix": "rm(",
     "library": "var_list.r",
     "varRefreshCmd": "cat(var_dic_list()) "
    }
   },
   "types_to_exclude": [
    "module",
    "function",
    "builtin_function_or_method",
    "instance",
    "_Feature"
   ],
   "window_display": false
  }
 },
 "nbformat": 4,
 "nbformat_minor": 4
}
