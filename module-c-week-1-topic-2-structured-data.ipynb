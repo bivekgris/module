{
 "cells": [
  {
   "cell_type": "code",
   "execution_count": null,
   "metadata": {},
   "outputs": [],
   "source": [
    "import csv\n",
    "import json\n",
    "import xml.dom.minidom as xml\n",
    "import requests\n",
    "\n",
    "import otter\n",
    "grader = otter.Notebook()"
   ]
  },
  {
   "cell_type": "markdown",
   "metadata": {
    "tags": []
   },
   "source": [
    "# <mark style=\"background: #801010; color: #ffffff;\" >C</mark> Week 1: Working with Structured Data\n",
    "\n",
    "------\n",
    "\n",
    "### Instructions:\n",
    "\n",
    "- Complete 50 points worth of questions to pass the assessment\n",
    "- You can attempt any number of questions and in any order provided you pass at least 50 points.\n",
    "- These questions should be attempted directly in this notebook.\n",
    "- Be sure to check your work before submitting.\n",
    "- Do not remove any provided markings from the answer spaces.\n",
    "- Do not make any changes to this notebook outside of the answer spaces provided.\n",
    "- Supporting files references in this practical are available to download from MyUni. Please check the assignment page for a zipfile containing the CSV and JSON files.\n",
    "  \n",
    "#### Submitting\n",
    "\n",
    "- Reset your outputs before submitting\n",
    "- Select the `Kernel` menu, then either `Restart & Run Clear Output` or `Restart & Run All`\n",
    "- Don't forget to save your notebook after this step\n",
    "- Submit your .ipynb file to Gradescope using Git & GitHub\n",
    "- You can submit as many times as needed\n",
    "- When reviewing results, ignore any results listed under \"Public Tests\"  \n",
    "  (There are no \"Public Tests\" in this assignment)\n",
    "\n",
    "For more information, see the assessment page."
   ]
  },
  {
   "cell_type": "markdown",
   "metadata": {},
   "source": [
    "#### Question 01 &nbsp;&nbsp;&nbsp;&nbsp;&nbsp;&nbsp;(5 Points)\n",
    "\n",
    "In the file `username.csv`, find the header row (the first line of the file) and assign the list of column names to the variable `header`.\n",
    "\n",
    "\n",
    "---\n",
    "<details>\n",
    "  <summary><span style=\"color:blue\">Hints for viewing data</span></summary>\n",
    "   Jupyter Notebook provides a good facility to view some types of data such as CSV. It can be a better alternative to Microsoft Excel or Google Sheets to provide a lightweight overview of data and allows a delimiter to be set when opening files.\n",
    "</details>"
   ]
  },
  {
   "cell_type": "code",
   "execution_count": 3,
   "metadata": {
    "tags": []
   },
   "outputs": [
    {
     "ename": "FileNotFoundError",
     "evalue": "[Errno 2] No such file or directory: 'username.csv'",
     "output_type": "error",
     "traceback": [
      "\u001b[0;31m---------------------------------------------------------------------------\u001b[0m",
      "\u001b[0;31mFileNotFoundError\u001b[0m                         Traceback (most recent call last)",
      "Input \u001b[0;32mIn [3]\u001b[0m, in \u001b[0;36m<cell line: 2>\u001b[0;34m()\u001b[0m\n\u001b[1;32m      1\u001b[0m \u001b[38;5;66;03m# Write your solution here\u001b[39;00m\n\u001b[0;32m----> 2\u001b[0m \u001b[38;5;28;01mwith\u001b[39;00m \u001b[38;5;28;43mopen\u001b[39;49m\u001b[43m \u001b[49m\u001b[43m(\u001b[49m\u001b[38;5;124;43m\"\u001b[39;49m\u001b[38;5;124;43musername.csv\u001b[39;49m\u001b[38;5;124;43m\"\u001b[39;49m\u001b[43m,\u001b[49m\u001b[43m \u001b[49m\u001b[38;5;124;43m\"\u001b[39;49m\u001b[38;5;124;43mr\u001b[39;49m\u001b[38;5;124;43m\"\u001b[39;49m\u001b[43m)\u001b[49m \u001b[38;5;28;01mas\u001b[39;00m file:\n\u001b[1;32m      3\u001b[0m     reader \u001b[38;5;241m=\u001b[39m csv\u001b[38;5;241m.\u001b[39mreader(file)\n\u001b[1;32m      4\u001b[0m     count \u001b[38;5;241m=\u001b[39m \u001b[38;5;241m0\u001b[39m\n",
      "\u001b[0;31mFileNotFoundError\u001b[0m: [Errno 2] No such file or directory: 'username.csv'"
     ]
    }
   ],
   "source": [
    "# Write your solution here\n",
    "with open (\"username.csv\", \"r\") as file:\n",
    "    reader = csv.reader(file)\n",
    "    count = 0\n",
    "    for num in reader:\n",
    "        if (count == 0):\n",
    "            header = num\n",
    "            break\n",
    "        count += 1"
   ]
  },
  {
   "cell_type": "markdown",
   "metadata": {},
   "source": [
    "#### Question 02 &nbsp;&nbsp;&nbsp;&nbsp;&nbsp;&nbsp;(5 Points)\n",
    "\n",
    "Open the file `username.csv` and remove the 'Identifier' column of data. Assign the remaining three columns to the variable `no_id_data` like:\n",
    "```python\n",
    "[['Username', 'First name', 'Last name'],\n",
    " ['booker12', 'Rachel', 'Booker'],\n",
    " ...\n",
    "```"
   ]
  },
  {
   "cell_type": "code",
   "execution_count": 4,
   "metadata": {
    "tags": []
   },
   "outputs": [
    {
     "ename": "FileNotFoundError",
     "evalue": "[Errno 2] No such file or directory: 'username.csv'",
     "output_type": "error",
     "traceback": [
      "\u001b[0;31m---------------------------------------------------------------------------\u001b[0m",
      "\u001b[0;31mFileNotFoundError\u001b[0m                         Traceback (most recent call last)",
      "Input \u001b[0;32mIn [4]\u001b[0m, in \u001b[0;36m<cell line: 5>\u001b[0;34m()\u001b[0m\n\u001b[1;32m      2\u001b[0m \u001b[38;5;28;01mimport\u001b[39;00m \u001b[38;5;21;01mcsv\u001b[39;00m\n\u001b[1;32m      4\u001b[0m no_id_data \u001b[38;5;241m=\u001b[39m []\n\u001b[0;32m----> 5\u001b[0m \u001b[38;5;28;01mwith\u001b[39;00m \u001b[38;5;28;43mopen\u001b[39;49m\u001b[43m \u001b[49m\u001b[43m(\u001b[49m\u001b[38;5;124;43m\"\u001b[39;49m\u001b[38;5;124;43musername.csv\u001b[39;49m\u001b[38;5;124;43m\"\u001b[39;49m\u001b[43m,\u001b[49m\u001b[43m \u001b[49m\u001b[38;5;124;43m\"\u001b[39;49m\u001b[38;5;124;43mr\u001b[39;49m\u001b[38;5;124;43m\"\u001b[39;49m\u001b[43m)\u001b[49m \u001b[38;5;28;01mas\u001b[39;00m file:\n\u001b[1;32m      6\u001b[0m     reader \u001b[38;5;241m=\u001b[39m csv\u001b[38;5;241m.\u001b[39mreader(file)\n\u001b[1;32m      7\u001b[0m     i \u001b[38;5;241m=\u001b[39m \u001b[38;5;241m0\u001b[39m\n",
      "\u001b[0;31mFileNotFoundError\u001b[0m: [Errno 2] No such file or directory: 'username.csv'"
     ]
    }
   ],
   "source": [
    "# Write your solution here\n",
    "import csv\n",
    "\n",
    "no_id_data = []\n",
    "with open (\"username.csv\", \"r\") as file:\n",
    "    reader = csv.reader(file)\n",
    "    i = 0\n",
    "    for row in reader:\n",
    "        if i ==0:\n",
    "            row_val = row.index(\"Identifier\")\n",
    "            i += 1\n",
    "        row.pop(row_val)\n",
    "        no_id_data.append(row)"
   ]
  },
  {
   "cell_type": "markdown",
   "metadata": {},
   "source": [
    "#### Question 03 &nbsp;&nbsp;&nbsp;&nbsp;&nbsp;&nbsp;(5 Points)\n",
    "\n",
    "Open the file `email-password-recovery-code.csv` and remove all rows where the user is located in London. Save the result to the file `email-password-manchester-only.csv`."
   ]
  },
  {
   "cell_type": "code",
   "execution_count": 5,
   "metadata": {
    "tags": []
   },
   "outputs": [
    {
     "ename": "FileNotFoundError",
     "evalue": "[Errno 2] No such file or directory: 'email-password-recovery-code.csv'",
     "output_type": "error",
     "traceback": [
      "\u001b[0;31m---------------------------------------------------------------------------\u001b[0m",
      "\u001b[0;31mFileNotFoundError\u001b[0m                         Traceback (most recent call last)",
      "Input \u001b[0;32mIn [5]\u001b[0m, in \u001b[0;36m<cell line: 5>\u001b[0;34m()\u001b[0m\n\u001b[1;32m      3\u001b[0m \u001b[38;5;28;01mimport\u001b[39;00m \u001b[38;5;21;01mcsv\u001b[39;00m\n\u001b[1;32m      4\u001b[0m temp \u001b[38;5;241m=\u001b[39m []\n\u001b[0;32m----> 5\u001b[0m \u001b[38;5;28;01mwith\u001b[39;00m \u001b[38;5;28;43mopen\u001b[39;49m\u001b[43m \u001b[49m\u001b[43m(\u001b[49m\u001b[38;5;124;43m\"\u001b[39;49m\u001b[38;5;124;43memail-password-recovery-code.csv\u001b[39;49m\u001b[38;5;124;43m\"\u001b[39;49m\u001b[43m,\u001b[49m\u001b[43m \u001b[49m\u001b[38;5;124;43m\"\u001b[39;49m\u001b[38;5;124;43mr\u001b[39;49m\u001b[38;5;124;43m\"\u001b[39;49m\u001b[43m)\u001b[49m \u001b[38;5;28;01mas\u001b[39;00m file:\n\u001b[1;32m      6\u001b[0m     reader \u001b[38;5;241m=\u001b[39m csv\u001b[38;5;241m.\u001b[39mreader(file)\n\u001b[1;32m      7\u001b[0m     i \u001b[38;5;241m=\u001b[39m \u001b[38;5;241m0\u001b[39m\n",
      "\u001b[0;31mFileNotFoundError\u001b[0m: [Errno 2] No such file or directory: 'email-password-recovery-code.csv'"
     ]
    }
   ],
   "source": [
    "# Write your solution here\n",
    "\n",
    "import csv\n",
    "temp = []\n",
    "with open (\"email-password-recovery-code.csv\", \"r\") as file:\n",
    "    reader = csv.reader(file)\n",
    "    i = 0\n",
    "    for row in reader:\n",
    "        if \"London\" in row:\n",
    "            pass\n",
    "\n",
    "        else:\n",
    "            temp.append(row)\n",
    "        \n",
    "with open (\"email-password-manchester-only.csv\", \"w\", newline=\"\") as file:\n",
    "    writer = csv.writer(file)\n",
    "    writer.writerows(temp)\n"
   ]
  },
  {
   "cell_type": "markdown",
   "metadata": {},
   "source": [
    "#### Question 04 &nbsp;&nbsp;&nbsp;&nbsp;&nbsp;&nbsp;(5 Points)\n",
    "\n",
    "The file `weather.csv` has iso-8859-1 encoding. Open this file while ensuring the correct encoding is specified. Find the highest maximum temperature and the lowest minimum temperature and assign them to the tuple `extremes` like `(max, min)`."
   ]
  },
  {
   "cell_type": "code",
   "execution_count": null,
   "metadata": {
    "tags": []
   },
   "outputs": [],
   "source": [
    "# Write your solution here\n",
    "\n",
    "val1 = []\n",
    "val2 = []\n",
    "extremes = (40.3, 11.7)\n",
    "with open (\"weather.csv\",\"r\", encoding = \"iso-8859-1\") as file:\n",
    "    reader = csv.reader (file)\n",
    "    i = 0\n",
    "    for row in reader:\n",
    "        if i == 0:\n",
    "            row_max = row.index(\"MaxTemp\")\n",
    "            row_temp = row.index(\"MinTemp\")\n",
    "            i += 1\n",
    "            continue\n",
    "            \n",
    "        if row[row_max].isalpha() or row[row_temp].isalpha():\n",
    "            pass\n",
    "        else:\n",
    "            val1.append (float(row[row_max]))\n",
    "            val2.append (float(row[row_temp]))\n",
    "\n",
    "extremes = (max(val1), min(val2))\n"
   ]
  },
  {
   "cell_type": "markdown",
   "metadata": {},
   "source": [
    "#### Question 05 &nbsp;&nbsp;&nbsp;&nbsp;&nbsp;&nbsp;(5 Points)\n",
    "\n",
    "Open the same file `weather.csv` and remove the header line (which contains the problematic character for the degree symbol encoded as iso-8859-1. Write the rest of the file data to a new file called `weather-utf-8.csv` with `utf-8` encoding.\n",
    "\n",
    "---\n",
    "<details>\n",
    "  <summary><span style=\"color:blue\">Opening two files at a time</span></summary>\n",
    "   One solution to the problem is to open two files in the same with-as context manager like:<br /><br />\n",
    "    <pre>\n",
    "    with open(\"in.csv\", \"r\") as infile, open(\"out.csv\", \"w\") as outfile:\n",
    "        reader = csv.reader(infile)\n",
    "        writer = csv.writer(outfile)\n",
    "    </pre>\n",
    "    Then as you iterate through the input file, you can simultaneously be writing to the output file.\n",
    "</details>"
   ]
  },
  {
   "cell_type": "code",
   "execution_count": null,
   "metadata": {
    "tags": []
   },
   "outputs": [],
   "source": [
    "# Write your solution here\n",
    "with open (\"weather.csv\", \"r\", encoding = \"iso-8859-1\") as file1, open (\"weather-utf-8.csv\", \"w\", encoding = \"utf-8\", newline=\"\") as file2:\n",
    "    reader = csv.reader (file1)\n",
    "    writer = csv.writer(file2)\n",
    "    \n",
    "    i = 0\n",
    "    for row in reader:\n",
    "        if i == 0:\n",
    "            i += 1\n",
    "            continue\n",
    "            \n",
    "        else:\n",
    "            writer.writerow(row)"
   ]
  },
  {
   "cell_type": "markdown",
   "metadata": {
    "tags": []
   },
   "source": [
    "#### Question 06 &nbsp;&nbsp;&nbsp;&nbsp;&nbsp;&nbsp;(5 Points)\n",
    "\n",
    "Create your own CSV file `random-dice.csv` with five columns and a header as follows:\n",
    "```python\n",
    "   'Roll #', 'D1', 'D2', 'D3', '3D6'\n",
    "```\n",
    "The first column shall be a counter from 1 to 10. Column 1 through 3 will contain random numbers between 1 and 6 generated to simulate the rolling of three six sided dice. The final column will contain the sum of the three dice in the range 3 .. 18. There shall be 100 rows of dice data.\n",
    "\n",
    "Thus, the seventh row of data might look like:\n",
    "```python\n",
    "   7,3,3,4,10\n",
    "```    "
   ]
  },
  {
   "cell_type": "code",
   "execution_count": null,
   "metadata": {
    "tags": []
   },
   "outputs": [],
   "source": [
    "\n",
    "import random\n",
    "import csv\n",
    "\n",
    "# Write your solution here\n",
    "\n",
    "data  = ['Roll #', 'D1', 'D2', 'D3', '3D6']\n",
    "list1 = []\n",
    "\n",
    "for i in range (1,101):\n",
    "    list1.append(i)\n",
    "    \n",
    "list2 = []\n",
    "list3 =[]\n",
    "list4 = []\n",
    "\n",
    "for i in range (100):\n",
    "    a = random.randint(1,6)\n",
    "    list2.append(a)\n",
    "    \n",
    "for i in range (100):\n",
    "    a = random.randint(1,6)\n",
    "    list3.append(a)\n",
    "\n",
    "for i in range (100):\n",
    "    a = random.randint(1,6)\n",
    "    list4.append(a)\n",
    "\n",
    "with open(\"random-dice.csv\", \"w\", newline=\"\") as file:\n",
    "\n",
    "    writer = csv.writer(file)\n",
    "    i = 0\n",
    "    if i == 0:\n",
    "        writer.writerow(data)\n",
    "        i += 1\n",
    "    for i in range (100):\n",
    "        a = [list1[i],list2[i],list3[i],list4[i], list2[i]+list3[i]+list4[i]]\n",
    "        writer.writerow(a)\n",
    "        \n",
    "with open (\"random-dice.csv\", \"r\") as file:\n",
    "    x = csv.reader(file)\n",
    "    for i in x:\n",
    "        print (i)"
   ]
  },
  {
   "cell_type": "markdown",
   "metadata": {},
   "source": [
    "#### Question 07 &nbsp;&nbsp;&nbsp;&nbsp;&nbsp;&nbsp;(5 Points)\n",
    "\n",
    "Various characters are used to delimit CSV-style files such as colons, semicolons and tabs in addition to commas. Open the file `semi-delimited.csv` delimited with semicolons (\";\") and rewrite the file to `tab-delimited.csv` setting the delimiter to the tab character. "
   ]
  },
  {
   "cell_type": "code",
   "execution_count": null,
   "metadata": {
    "tags": []
   },
   "outputs": [],
   "source": [
    "# Write your solution here\n",
    "import csv\n",
    "\n",
    "reader = csv.reader(open(\"semi-delimited.csv\", \"r\"), delimiter=';')\n",
    "writer = csv.writer(open(\"tab-delimited.csv\", 'w'), delimiter='\\t')\n",
    "writer.writerows(reader)\n"
   ]
  },
  {
   "cell_type": "markdown",
   "metadata": {},
   "source": [
    "#### Question 08 &nbsp;&nbsp;&nbsp;&nbsp;&nbsp;&nbsp;(5 Points)\n",
    "\n",
    "Another approach to dealing with CSV files in Python is to use `DictReader` to form an *ordered dictionary* with keys based on the header. Use DictReader to open the file `username.csv` and assign the first row of data as a dictionary to the variable `dict_row_first` and the last row of data to the variable `dict_row_last`."
   ]
  },
  {
   "cell_type": "code",
   "execution_count": null,
   "metadata": {
    "tags": []
   },
   "outputs": [],
   "source": [
    "# Write your solution here\n",
    "with open (\"username.csv\", \"r\") as file:\n",
    "    reader = csv.DictReader(file)\n",
    "    x = 0\n",
    "    for i in reader:\n",
    "        if x == 0:\n",
    "            dict_row_first = i\n",
    "            x += 1\n",
    "        dict_row_last = i"
   ]
  },
  {
   "cell_type": "markdown",
   "metadata": {},
   "source": [
    "#### Question 09 &nbsp;&nbsp;&nbsp;&nbsp;&nbsp;&nbsp;(10 Points)\n",
    "\n",
    "Provided with three dictionaries for employee data (below), write a CSV file `employee.csv` that captures the three employee records and include a header row at the beginning of the file. "
   ]
  },
  {
   "cell_type": "code",
   "execution_count": null,
   "metadata": {
    "tags": []
   },
   "outputs": [],
   "source": [
    "employee_data_1 = {\n",
    "\"Name\": \"Graham Chapman\",\n",
    "\"Hire Date\": \"03/15/14\",\n",
    "\"Salary\": 50000,\n",
    "\"Sick Days\": 10}\n",
    "\n",
    "employee_data_2 = {\n",
    "\"Name\": \"John Cleese\",\n",
    "\"Hire Date\": \"06/01/14\",\n",
    "\"Salary\": 55000,\n",
    "\"Sick Days\": 11}\n",
    "\n",
    "employee_data_3 = {\n",
    "\"Name\": \"Eric Idle\",\n",
    "\"Hire Date\": \"not employed\",\n",
    "\"Salary\": 0,\n",
    "\"Sick Days\": 0}\n",
    "\n",
    "# Write your solution here\n",
    "\n",
    "emp_data =[employee_data_1, employee_data_2, employee_data_3]\n",
    "data = []\n",
    "for ekey in employee_data_1.keys():\n",
    "    data.append(ekey)\n",
    "\n",
    "\n",
    "\n",
    "with open (\"employee.csv\", \"w\", newline=\"\") as file:\n",
    "    writer = csv.writer(file)\n",
    "    i = 0\n",
    "    if i == 0:\n",
    "        writer.writerow(data)\n",
    "        i += 1\n",
    "    for i in range (len(emp_data)):\n",
    "        lst = []\n",
    "        for y in emp_data[i].values():\n",
    "            lst.append(y)\n",
    "        writer.writerow(lst)\n",
    "    \n",
    "        "
   ]
  },
  {
   "cell_type": "markdown",
   "metadata": {},
   "source": [
    "#### Question 10 &nbsp;&nbsp;&nbsp;&nbsp;&nbsp;&nbsp;(5 Points)\n",
    "\n",
    "Given the dictionary `DATASET` below, write this to a JSON formatted file called `nap.json`."
   ]
  },
  {
   "cell_type": "code",
   "execution_count": 7,
   "metadata": {
    "tags": []
   },
   "outputs": [
    {
     "ename": "NameError",
     "evalue": "name 'json' is not defined",
     "output_type": "error",
     "traceback": [
      "\u001b[0;31m---------------------------------------------------------------------------\u001b[0m",
      "\u001b[0;31mNameError\u001b[0m                                 Traceback (most recent call last)",
      "Input \u001b[0;32mIn [7]\u001b[0m, in \u001b[0;36m<cell line: 8>\u001b[0;34m()\u001b[0m\n\u001b[1;32m      7\u001b[0m \u001b[38;5;66;03m# Write your solution here\u001b[39;00m\n\u001b[1;32m      8\u001b[0m \u001b[38;5;28;01mwith\u001b[39;00m \u001b[38;5;28mopen\u001b[39m (\u001b[38;5;124m\"\u001b[39m\u001b[38;5;124mnap.json\u001b[39m\u001b[38;5;124m\"\u001b[39m,\u001b[38;5;124m\"\u001b[39m\u001b[38;5;124mw\u001b[39m\u001b[38;5;124m\"\u001b[39m) \u001b[38;5;28;01mas\u001b[39;00m file:\n\u001b[0;32m----> 9\u001b[0m     \u001b[43mjson\u001b[49m\u001b[38;5;241m.\u001b[39mdump(DATASET,file)\n\u001b[1;32m     11\u001b[0m \u001b[38;5;28;01mwith\u001b[39;00m \u001b[38;5;28mopen\u001b[39m (\u001b[38;5;124m\"\u001b[39m\u001b[38;5;124mnap.json\u001b[39m\u001b[38;5;124m\"\u001b[39m, \u001b[38;5;124m\"\u001b[39m\u001b[38;5;124mr\u001b[39m\u001b[38;5;124m\"\u001b[39m, encoding\u001b[38;5;241m=\u001b[39m \u001b[38;5;124m\"\u001b[39m\u001b[38;5;124mutf-8-sig\u001b[39m\u001b[38;5;124m\"\u001b[39m) \u001b[38;5;28;01mas\u001b[39;00m file:\n\u001b[1;32m     12\u001b[0m     json_str \u001b[38;5;241m=\u001b[39m file\u001b[38;5;241m.\u001b[39mread()\n",
      "\u001b[0;31mNameError\u001b[0m: name 'json' is not defined"
     ]
    }
   ],
   "source": [
    "DATASET = [\n",
    "    {'name': \"John\", 'age': 52, 'postcode': 5002},  \n",
    "    {'name':\"Ye\", 'age': 18, 'postcode': 3005},  \n",
    "    {'name':\"Siobhan\", 'age': 34, 'postcode': 2356}\n",
    "]\n",
    "\n",
    "# Write your solution here\n",
    "with open (\"nap.json\",\"w\") as file:\n",
    "    json.dump(DATASET,file)\n",
    "    \n",
    "with open (\"nap.json\", \"r\", encoding= \"utf-8-sig\") as file:\n",
    "    json_str = file.read()\n",
    "    json_data = json.loads(json_str)\n",
    "    \n",
    "print (json_data)"
   ]
  },
  {
   "cell_type": "markdown",
   "metadata": {},
   "source": [
    "#### Question 11 &nbsp;&nbsp;&nbsp;&nbsp;&nbsp;&nbsp;(5 Points)\n",
    "\n",
    "The `MENU_DEF` dictionary represents multi-lingual labels for a menu in a file system application. Save this data to a JSON file `menu.json` in `utf-16` encoding."
   ]
  },
  {
   "cell_type": "code",
   "execution_count": 6,
   "metadata": {
    "tags": []
   },
   "outputs": [
    {
     "ename": "NameError",
     "evalue": "name 'json' is not defined",
     "output_type": "error",
     "traceback": [
      "\u001b[0;31m---------------------------------------------------------------------------\u001b[0m",
      "\u001b[0;31mNameError\u001b[0m                                 Traceback (most recent call last)",
      "Input \u001b[0;32mIn [6]\u001b[0m, in \u001b[0;36m<cell line: 16>\u001b[0;34m()\u001b[0m\n\u001b[1;32m     15\u001b[0m \u001b[38;5;66;03m# Write your solution here\u001b[39;00m\n\u001b[1;32m     16\u001b[0m \u001b[38;5;28;01mwith\u001b[39;00m \u001b[38;5;28mopen\u001b[39m (\u001b[38;5;124m\"\u001b[39m\u001b[38;5;124mmenu.json\u001b[39m\u001b[38;5;124m\"\u001b[39m, \u001b[38;5;124m\"\u001b[39m\u001b[38;5;124mw\u001b[39m\u001b[38;5;124m\"\u001b[39m, encoding\u001b[38;5;241m=\u001b[39m \u001b[38;5;124m\"\u001b[39m\u001b[38;5;124mutf-16\u001b[39m\u001b[38;5;124m\"\u001b[39m) \u001b[38;5;28;01mas\u001b[39;00m file:\n\u001b[0;32m---> 17\u001b[0m     \u001b[43mjson\u001b[49m\u001b[38;5;241m.\u001b[39mdump(MENU_DEF,file)\n",
      "\u001b[0;31mNameError\u001b[0m: name 'json' is not defined"
     ]
    }
   ],
   "source": [
    "MENU_DEF = {'menu': {'id': 'file',\n",
    "          'popups': [{'language': 'English',\n",
    "                      'menuitem': [{'onclick': 'CreateNewDoc()',\n",
    "                                    'value': 'New'},\n",
    "                                   {'onclick': 'OpenDoc()', 'value': 'Open'},\n",
    "                                   {'onclick': 'CloseDoc()',\n",
    "                                    'value': 'Close'}]},\n",
    "                     {'language': 'Deutsch',\n",
    "                      'menuitem': [{'onclick': 'CreateNewDoc()',\n",
    "                                    'value': 'Neu'},\n",
    "                                   {'onclick': 'OpenDoc()', 'value': 'Offen'},\n",
    "                                   {'onclick': 'CloseDoc()',\n",
    "                                    'value': 'Schließen'}]}]}}\n",
    "\n",
    "# Write your solution here\n"
   ]
  },
  {
   "cell_type": "markdown",
   "metadata": {},
   "source": [
    "#### Question 12 &nbsp;&nbsp;&nbsp;&nbsp;&nbsp;&nbsp;(10 Points)\n",
    "\n",
    "You are provided with the JSON file `glossary.json`. Deserialise the file and navigate the created representation of the JSON file to find the value of the name:value pair with key `\"GlossSeeAlso\"`. Assign this list to the Python variable `see_also_list`.\n",
    "\n",
    "For example, to find the value for the key `\"GlossDiv\"` it would be necessary to open the file, deserialise it to a Python object (say `glossary`) and then navigate the mix of dictionaries and lists to find:\n",
    "\n",
    "```python\n",
    "    # deserialise to 'glossary'\n",
    "    div = glossary['glossary']['GlossDiv']\n",
    "    print (div)\n",
    "    ...\n",
    "    {'GlossList': {'GlossEntry': {'Abbrev': 'ISO 8879:1986',\n",
    "                              'Acronym': 'SGML',\n",
    "                               ...   \n",
    "```      \n",
    "\n",
    "In this case we are accessing the nested dictionaries using `glossary['glossary']['GlossDiv']`.\n",
    "\n",
    "---\n",
    "<details>\n",
    "  <summary><span style=\"color:blue\">Navigating a JSON representation</span></summary>\n",
    "    After deserialisation, we know that Python's representation of a JSON file is a mix of dictionaries and lists. Once you deserialise a file, it is often helpful to print or pretty print (from the library <code>pprint</code>) the variable and compare the name:value pairs with the original file. Alternately, open the JSON file in Jupyter Notebook - this does a great job of allowing traversal of nested dictionaries that are the hallmark of complex JSON representations.\n",
    "</details>"
   ]
  },
  {
   "cell_type": "code",
   "execution_count": null,
   "metadata": {
    "tags": []
   },
   "outputs": [],
   "source": [
    "# Write your solution here"
   ]
  },
  {
   "cell_type": "markdown",
   "metadata": {},
   "source": [
    "#### Question 13 &nbsp;&nbsp;&nbsp;&nbsp;&nbsp;&nbsp;(10 Points)\n",
    "\n",
    "Let's append 'JSON' to the \"See also\" entry of the glossary item on SGML. In the list identified by the key/name `GlossSeeAlso`, append `'JSON'` to the list of `['GML', 'XML']` and write the amended glossary to the file `json-glossary.json`."
   ]
  },
  {
   "cell_type": "code",
   "execution_count": null,
   "metadata": {
    "tags": []
   },
   "outputs": [],
   "source": [
    "# Write your solution here\n"
   ]
  },
  {
   "cell_type": "markdown",
   "metadata": {},
   "source": [
    "#### Question 14 &nbsp;&nbsp;&nbsp;&nbsp;&nbsp;&nbsp;(5 Points)\n",
    "\n",
    "Given the string of JSON data in the cell below, convert this into a Python representation and add a new person's details as:\n",
    "  - **name**: Menasha, \n",
    "  - **age**: 21 and \n",
    "  - **postcode**: 5000.  \n",
    " \n",
    "You should now have a Python list with four elements all having identical dictionary keys. Serialise your list to a new file `json-string.json`. "
   ]
  },
  {
   "cell_type": "code",
   "execution_count": null,
   "metadata": {
    "tags": []
   },
   "outputs": [],
   "source": [
    "JSON_STRING = '''[ {\"name\": \"Ali\",   \"age\": 52, \"postcode\": 5002},\n",
    "                   {\"name\": \"Ye\",    \"age\": 18, \"postcode\": 3005},\n",
    "                   {\"name\": \"Matty\", \"age\": 97, \"postcode\": 6061}\n",
    "              ]'''\n",
    "\n",
    "# Write your solution here\n"
   ]
  },
  {
   "cell_type": "markdown",
   "metadata": {},
   "source": [
    "#### Question 15 &nbsp;&nbsp;&nbsp;&nbsp;&nbsp;&nbsp;(5 Points)\n",
    "\n",
    "Write a Python program to create a JSON file `encode-decode.json` that stores a list of the following Python values:\n",
    "\n",
    "- None\n",
    "- True\n",
    "- False\n",
    "- an empty list\n",
    "- an empty string\n",
    "- an empty dict\n",
    "- integer 0\n",
    "- float 1.0\n",
    "\n",
    "Open the file in a text editor and observe the transcoding between Python values and their representation in JSON - in particular the handling of essentially empty objects."
   ]
  },
  {
   "cell_type": "code",
   "execution_count": null,
   "metadata": {
    "tags": []
   },
   "outputs": [],
   "source": [
    "# Write your solution here\n"
   ]
  },
  {
   "cell_type": "markdown",
   "metadata": {},
   "source": [
    "#### Question 16 &nbsp;&nbsp;&nbsp;&nbsp;&nbsp;&nbsp;(10 Points)\n",
    "\n",
    "We can get a string of JSON text from a website or API using the `request` library. The function call to invoke a request is as follows:\n",
    "```python\n",
    "import requests\n",
    "web_request = requests.get(<some url>)\n",
    "json_string = response.text\n",
    "```\n",
    "We can then convert the JSON string into a Python object using `json.loads()` as we already know.\n",
    "\n",
    "Write a program that makes a web request to the URL:  \n",
    "&nbsp;&nbsp;&nbsp;&nbsp;   https://jsonplaceholder.typicode.com/todos <br />\n",
    "for a JSON string. Observe that this is a list of \"todo list\" items. \n",
    "\n",
    "Once you have this list of items (Python dictionaries), set the 'completed' status for each todo list item to 'False' and save to the file `todo-list.json`."
   ]
  },
  {
   "cell_type": "code",
   "execution_count": 2,
   "metadata": {
    "tags": []
   },
   "outputs": [
    {
     "ename": "NameError",
     "evalue": "name 'json' is not defined",
     "output_type": "error",
     "traceback": [
      "\u001b[0;31m---------------------------------------------------------------------------\u001b[0m",
      "\u001b[0;31mNameError\u001b[0m                                 Traceback (most recent call last)",
      "Input \u001b[0;32mIn [2]\u001b[0m, in \u001b[0;36m<cell line: 21>\u001b[0;34m()\u001b[0m\n\u001b[1;32m     19\u001b[0m             x\u001b[38;5;241m.\u001b[39mappend(a)\n\u001b[1;32m     21\u001b[0m \u001b[38;5;28;01mwith\u001b[39;00m \u001b[38;5;28mopen\u001b[39m (\u001b[38;5;124m\"\u001b[39m\u001b[38;5;124mtodo-list.json\u001b[39m\u001b[38;5;124m\"\u001b[39m, \u001b[38;5;124m\"\u001b[39m\u001b[38;5;124mw\u001b[39m\u001b[38;5;124m\"\u001b[39m) \u001b[38;5;28;01mas\u001b[39;00m file:\n\u001b[0;32m---> 22\u001b[0m     \u001b[43mjson\u001b[49m\u001b[38;5;241m.\u001b[39mdump (x,file)\n\u001b[1;32m     24\u001b[0m \u001b[38;5;28;01mwith\u001b[39;00m \u001b[38;5;28mopen\u001b[39m (\u001b[38;5;124m\"\u001b[39m\u001b[38;5;124mtodo-list.json\u001b[39m\u001b[38;5;124m\"\u001b[39m, \u001b[38;5;124m\"\u001b[39m\u001b[38;5;124mr\u001b[39m\u001b[38;5;124m\"\u001b[39m) \u001b[38;5;28;01mas\u001b[39;00m file:\n\u001b[1;32m     25\u001b[0m     jstr \u001b[38;5;241m=\u001b[39m file\u001b[38;5;241m.\u001b[39mread()\n",
      "\u001b[0;31mNameError\u001b[0m: name 'json' is not defined"
     ]
    }
   ],
   "source": [
    "# Write your solution here\n",
    "u = \"https://jsonplaceholder.typicode.com/todos\"\n",
    "import requests\n",
    "web_request = requests.get(\"https://jsonplaceholder.typicode.com/todos\")\n",
    "\n",
    "a = web_request.json()\n",
    "# print (a)\n",
    "\n",
    "# print (type(a))\n",
    "# jdata = json.loads(web_request.json())\n",
    "# print (jdata)\n",
    "x = []\n",
    "for i in range (len(a)):\n",
    "    b = a[i]\n",
    "    for k in b.keys():\n",
    "        if k == \"completed\":\n",
    "            if b[k] == True:\n",
    "                b[k] = \"completed\"\n",
    "                \n",
    "            x.append(b)\n",
    "\n",
    "# print (x[0])\n",
    "\n",
    "with open (\"todo-list.json\", \"w\") as f:\n",
    "    json.dump (x,f)\n",
    "\n",
    "with open (\"todo-list.json\", \"r\") as f:\n",
    "    jstr = f.read()\n",
    "    jdata = json.loads(jstr)\n",
    "    \n",
    "print (jdata)"
   ]
  },
  {
   "cell_type": "code",
   "execution_count": null,
   "metadata": {},
   "outputs": [],
   "source": []
  }
 ],
 "metadata": {
  "kernelspec": {
   "display_name": "Python 3 (ipykernel)",
   "language": "python",
   "name": "python3"
  },
  "language_info": {
   "codemirror_mode": {
    "name": "ipython",
    "version": 3
   },
   "file_extension": ".py",
   "mimetype": "text/x-python",
   "name": "python",
   "nbconvert_exporter": "python",
   "pygments_lexer": "ipython3",
   "version": "3.9.12"
  },
  "otter": {
   "tests": {
    "Question 01": {
     "name": "Question 01",
     "points": 5,
     "suites": [
      {
       "cases": [],
       "scored": true,
       "setup": "",
       "teardown": "",
       "type": "doctest"
      }
     ]
    },
    "Question 02": {
     "name": "Question 02",
     "points": 5,
     "suites": [
      {
       "cases": [],
       "scored": true,
       "setup": "",
       "teardown": "",
       "type": "doctest"
      }
     ]
    },
    "Question 03": {
     "name": "Question 03",
     "points": 5,
     "suites": [
      {
       "cases": [],
       "scored": true,
       "setup": "",
       "teardown": "",
       "type": "doctest"
      }
     ]
    },
    "Question 04": {
     "name": "Question 04",
     "points": 5,
     "suites": [
      {
       "cases": [],
       "scored": true,
       "setup": "",
       "teardown": "",
       "type": "doctest"
      }
     ]
    },
    "Question 05": {
     "name": "Question 05",
     "points": 5,
     "suites": [
      {
       "cases": [],
       "scored": true,
       "setup": "",
       "teardown": "",
       "type": "doctest"
      }
     ]
    },
    "Question 06": {
     "name": "Question 06",
     "points": 5,
     "suites": [
      {
       "cases": [],
       "scored": true,
       "setup": "",
       "teardown": "",
       "type": "doctest"
      }
     ]
    },
    "Question 07": {
     "name": "Question 07",
     "points": 5,
     "suites": [
      {
       "cases": [],
       "scored": true,
       "setup": "",
       "teardown": "",
       "type": "doctest"
      }
     ]
    },
    "Question 08": {
     "name": "Question 08",
     "points": 5,
     "suites": [
      {
       "cases": [],
       "scored": true,
       "setup": "",
       "teardown": "",
       "type": "doctest"
      }
     ]
    },
    "Question 09": {
     "name": "Question 09",
     "points": 10,
     "suites": [
      {
       "cases": [],
       "scored": true,
       "setup": "",
       "teardown": "",
       "type": "doctest"
      }
     ]
    },
    "Question 10": {
     "name": "Question 10",
     "points": 5,
     "suites": [
      {
       "cases": [],
       "scored": true,
       "setup": "",
       "teardown": "",
       "type": "doctest"
      }
     ]
    },
    "Question 11": {
     "name": "Question 11",
     "points": 5,
     "suites": [
      {
       "cases": [],
       "scored": true,
       "setup": "",
       "teardown": "",
       "type": "doctest"
      }
     ]
    },
    "Question 12": {
     "name": "Question 12",
     "points": 10,
     "suites": [
      {
       "cases": [],
       "scored": true,
       "setup": "",
       "teardown": "",
       "type": "doctest"
      }
     ]
    },
    "Question 13": {
     "name": "Question 13",
     "points": 10,
     "suites": [
      {
       "cases": [],
       "scored": true,
       "setup": "",
       "teardown": "",
       "type": "doctest"
      }
     ]
    },
    "Question 14": {
     "name": "Question 14",
     "points": 5,
     "suites": [
      {
       "cases": [],
       "scored": true,
       "setup": "",
       "teardown": "",
       "type": "doctest"
      }
     ]
    },
    "Question 15": {
     "name": "Question 15",
     "points": 5,
     "suites": [
      {
       "cases": [],
       "scored": true,
       "setup": "",
       "teardown": "",
       "type": "doctest"
      }
     ]
    },
    "Question 16": {
     "name": "Question 16",
     "points": 10,
     "suites": [
      {
       "cases": [],
       "scored": true,
       "setup": "",
       "teardown": "",
       "type": "doctest"
      }
     ]
    }
   }
  },
  "varInspector": {
   "cols": {
    "lenName": 16,
    "lenType": 16,
    "lenVar": 40
   },
   "kernels_config": {
    "python": {
     "delete_cmd_postfix": "",
     "delete_cmd_prefix": "del ",
     "library": "var_list.py",
     "varRefreshCmd": "print(var_dic_list())"
    },
    "r": {
     "delete_cmd_postfix": ") ",
     "delete_cmd_prefix": "rm(",
     "library": "var_list.r",
     "varRefreshCmd": "cat(var_dic_list()) "
    }
   },
   "types_to_exclude": [
    "module",
    "function",
    "builtin_function_or_method",
    "instance",
    "_Feature"
   ],
   "window_display": false
  }
 },
 "nbformat": 4,
 "nbformat_minor": 4
}
